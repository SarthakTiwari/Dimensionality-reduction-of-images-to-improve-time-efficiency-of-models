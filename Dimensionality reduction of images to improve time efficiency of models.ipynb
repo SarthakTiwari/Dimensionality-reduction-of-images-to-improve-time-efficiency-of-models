{
  "nbformat": 4,
  "nbformat_minor": 0,
  "metadata": {
    "colab": {
      "name": "mnist_pca",
      "provenance": [],
      "collapsed_sections": []
    },
    "kernelspec": {
      "name": "python3",
      "display_name": "Python 3"
    }
  },
  "cells": [
    {
      "cell_type": "markdown",
      "metadata": {
        "id": "2BWYZZ656yVX",
        "colab_type": "text"
      },
      "source": [
        "**Dimensionality reduction of images to improve time efficiency of models**\n",
        "Transforming image features into lower dimension vectors to speed up training with negligible effect on performance"
      ]
    },
    {
      "cell_type": "markdown",
      "metadata": {
        "id": "qdF5iPlc4fI1",
        "colab_type": "text"
      },
      "source": [
        "importing dependencies and data\n"
      ]
    },
    {
      "cell_type": "code",
      "metadata": {
        "id": "E7auaMIXrMUB",
        "colab_type": "code",
        "outputId": "204c6e09-fef6-4505-a805-74b917bb70e0",
        "colab": {
          "base_uri": "https://localhost:8080/",
          "height": 80
        }
      },
      "source": [
        "import numpy as np\n",
        "import pandas as pd\n",
        "from keras.datasets import mnist\n"
      ],
      "execution_count": 0,
      "outputs": [
        {
          "output_type": "stream",
          "text": [
            "Using TensorFlow backend.\n"
          ],
          "name": "stderr"
        },
        {
          "output_type": "display_data",
          "data": {
            "text/html": [
              "<p style=\"color: red;\">\n",
              "The default version of TensorFlow in Colab will soon switch to TensorFlow 2.x.<br>\n",
              "We recommend you <a href=\"https://www.tensorflow.org/guide/migrate\" target=\"_blank\">upgrade</a> now \n",
              "or ensure your notebook will continue to use TensorFlow 1.x via the <code>%tensorflow_version 1.x</code> magic:\n",
              "<a href=\"https://colab.research.google.com/notebooks/tensorflow_version.ipynb\" target=\"_blank\">more info</a>.</p>\n"
            ],
            "text/plain": [
              "<IPython.core.display.HTML object>"
            ]
          },
          "metadata": {
            "tags": []
          }
        }
      ]
    },
    {
      "cell_type": "code",
      "metadata": {
        "id": "K1hmyRgTrk8K",
        "colab_type": "code",
        "colab": {}
      },
      "source": [
        "(x_train, y_train), (x_test, y_test) = mnist.load_data()"
      ],
      "execution_count": 0,
      "outputs": []
    },
    {
      "cell_type": "code",
      "metadata": {
        "id": "Dj0xjqpRrr5V",
        "colab_type": "code",
        "outputId": "7cfaca58-01e4-4d36-fb69-d2dc11e1e6f5",
        "colab": {
          "base_uri": "https://localhost:8080/",
          "height": 34
        }
      },
      "source": [
        "y_train"
      ],
      "execution_count": 0,
      "outputs": [
        {
          "output_type": "execute_result",
          "data": {
            "text/plain": [
              "array([5, 0, 4, ..., 5, 6, 8], dtype=uint8)"
            ]
          },
          "metadata": {
            "tags": []
          },
          "execution_count": 3
        }
      ]
    },
    {
      "cell_type": "markdown",
      "metadata": {
        "id": "q2uPLqVZ4qiI",
        "colab_type": "text"
      },
      "source": [
        "one hot encoding Target variable"
      ]
    },
    {
      "cell_type": "code",
      "metadata": {
        "id": "7qbHNBo_rcny",
        "colab_type": "code",
        "colab": {}
      },
      "source": [
        "x_train=x_train/255\n",
        "labels=y_train\n",
        "labels=np.asarray(labels)\n",
        "lr = np.arange(10)\n",
        "one_hot=np.zeros((len(labels),10))\n",
        "for i in range(len(labels)):\n",
        "    one_hot[i,:]=(lr==labels[i]).astype(np.float)"
      ],
      "execution_count": 0,
      "outputs": []
    },
    {
      "cell_type": "code",
      "metadata": {
        "id": "iy6Yf1fNsdDX",
        "colab_type": "code",
        "outputId": "ffdf88d8-8ae2-4c50-9c55-5627b9628f44",
        "colab": {
          "base_uri": "https://localhost:8080/",
          "height": 136
        }
      },
      "source": [
        "one_hot"
      ],
      "execution_count": 0,
      "outputs": [
        {
          "output_type": "execute_result",
          "data": {
            "text/plain": [
              "array([[0., 0., 0., ..., 0., 0., 0.],\n",
              "       [1., 0., 0., ..., 0., 0., 0.],\n",
              "       [0., 0., 0., ..., 0., 0., 0.],\n",
              "       ...,\n",
              "       [0., 0., 0., ..., 0., 0., 0.],\n",
              "       [0., 0., 0., ..., 0., 0., 0.],\n",
              "       [0., 0., 0., ..., 0., 1., 0.]])"
            ]
          },
          "metadata": {
            "tags": []
          },
          "execution_count": 5
        }
      ]
    },
    {
      "cell_type": "code",
      "metadata": {
        "id": "H8jB-7_qtZcb",
        "colab_type": "code",
        "outputId": "63fa5c07-382b-4a6d-fc45-d08aa03f6813",
        "colab": {
          "base_uri": "https://localhost:8080/",
          "height": 34
        }
      },
      "source": [
        "x_train.shape"
      ],
      "execution_count": 0,
      "outputs": [
        {
          "output_type": "execute_result",
          "data": {
            "text/plain": [
              "(60000, 28, 28)"
            ]
          },
          "metadata": {
            "tags": []
          },
          "execution_count": 6
        }
      ]
    },
    {
      "cell_type": "markdown",
      "metadata": {
        "id": "oWs7NYUK4_Le",
        "colab_type": "text"
      },
      "source": [
        "Using a simple fully connected architecture"
      ]
    },
    {
      "cell_type": "code",
      "metadata": {
        "id": "aqT9jAF0sfAC",
        "colab_type": "code",
        "outputId": "56aab6f6-3666-4556-865e-1c575313853f",
        "colab": {
          "base_uri": "https://localhost:8080/",
          "height": 411
        }
      },
      "source": [
        "from keras.layers import Dense,Input,Flatten\n",
        "from keras.models import Model \n",
        "image_input = Input(shape=(28,28))\n",
        "a=Flatten()(image_input)\n",
        "fc1=Dense(128,activation='relu',name='fc1')(a)\n",
        "out=Dense(10,activation='softmax',name='out')(fc1)\n",
        "nn=Model(image_input,out)\n",
        "nn.summary()"
      ],
      "execution_count": 0,
      "outputs": [
        {
          "output_type": "stream",
          "text": [
            "WARNING:tensorflow:From /usr/local/lib/python3.6/dist-packages/keras/backend/tensorflow_backend.py:66: The name tf.get_default_graph is deprecated. Please use tf.compat.v1.get_default_graph instead.\n",
            "\n",
            "WARNING:tensorflow:From /usr/local/lib/python3.6/dist-packages/keras/backend/tensorflow_backend.py:541: The name tf.placeholder is deprecated. Please use tf.compat.v1.placeholder instead.\n",
            "\n",
            "WARNING:tensorflow:From /usr/local/lib/python3.6/dist-packages/keras/backend/tensorflow_backend.py:4432: The name tf.random_uniform is deprecated. Please use tf.random.uniform instead.\n",
            "\n",
            "Model: \"model_1\"\n",
            "_________________________________________________________________\n",
            "Layer (type)                 Output Shape              Param #   \n",
            "=================================================================\n",
            "input_1 (InputLayer)         (None, 28, 28)            0         \n",
            "_________________________________________________________________\n",
            "flatten_1 (Flatten)          (None, 784)               0         \n",
            "_________________________________________________________________\n",
            "fc1 (Dense)                  (None, 128)               100480    \n",
            "_________________________________________________________________\n",
            "out (Dense)                  (None, 10)                1290      \n",
            "=================================================================\n",
            "Total params: 101,770\n",
            "Trainable params: 101,770\n",
            "Non-trainable params: 0\n",
            "_________________________________________________________________\n"
          ],
          "name": "stdout"
        }
      ]
    },
    {
      "cell_type": "code",
      "metadata": {
        "id": "J_WQn6rStCv0",
        "colab_type": "code",
        "outputId": "c4f411c9-a6f2-4810-d392-75103ae67557",
        "colab": {
          "base_uri": "https://localhost:8080/",
          "height": 105
        }
      },
      "source": [
        "nn.compile(loss='categorical_crossentropy',optimizer=\"adam\",metrics=['accuracy'])"
      ],
      "execution_count": 0,
      "outputs": [
        {
          "output_type": "stream",
          "text": [
            "WARNING:tensorflow:From /usr/local/lib/python3.6/dist-packages/keras/optimizers.py:793: The name tf.train.Optimizer is deprecated. Please use tf.compat.v1.train.Optimizer instead.\n",
            "\n",
            "WARNING:tensorflow:From /usr/local/lib/python3.6/dist-packages/keras/backend/tensorflow_backend.py:3576: The name tf.log is deprecated. Please use tf.math.log instead.\n",
            "\n"
          ],
          "name": "stdout"
        }
      ]
    },
    {
      "cell_type": "markdown",
      "metadata": {
        "id": "-i6W1cB95aOh",
        "colab_type": "text"
      },
      "source": [
        "training of NN"
      ]
    },
    {
      "cell_type": "code",
      "metadata": {
        "id": "EFmgaddwtF9F",
        "colab_type": "code",
        "outputId": "0e687be3-2564-4e67-b449-f2b46a74c1b8",
        "colab": {
          "base_uri": "https://localhost:8080/",
          "height": 734
        }
      },
      "source": [
        "import time\n",
        "t=time.time()\n",
        "nn.fit(x_train,one_hot,batch_size=128, epochs=10, verbose=1, validation_split=0.2)\n",
        "print(time.time()-t)"
      ],
      "execution_count": 0,
      "outputs": [
        {
          "output_type": "stream",
          "text": [
            "WARNING:tensorflow:From /usr/local/lib/python3.6/dist-packages/tensorflow_core/python/ops/math_grad.py:1424: where (from tensorflow.python.ops.array_ops) is deprecated and will be removed in a future version.\n",
            "Instructions for updating:\n",
            "Use tf.where in 2.0, which has the same broadcast rule as np.where\n",
            "WARNING:tensorflow:From /usr/local/lib/python3.6/dist-packages/keras/backend/tensorflow_backend.py:1033: The name tf.assign_add is deprecated. Please use tf.compat.v1.assign_add instead.\n",
            "\n",
            "WARNING:tensorflow:From /usr/local/lib/python3.6/dist-packages/keras/backend/tensorflow_backend.py:1020: The name tf.assign is deprecated. Please use tf.compat.v1.assign instead.\n",
            "\n",
            "WARNING:tensorflow:From /usr/local/lib/python3.6/dist-packages/keras/backend/tensorflow_backend.py:3005: The name tf.Session is deprecated. Please use tf.compat.v1.Session instead.\n",
            "\n",
            "Train on 48000 samples, validate on 12000 samples\n",
            "Epoch 1/10\n",
            "WARNING:tensorflow:From /usr/local/lib/python3.6/dist-packages/keras/backend/tensorflow_backend.py:190: The name tf.get_default_session is deprecated. Please use tf.compat.v1.get_default_session instead.\n",
            "\n",
            "WARNING:tensorflow:From /usr/local/lib/python3.6/dist-packages/keras/backend/tensorflow_backend.py:197: The name tf.ConfigProto is deprecated. Please use tf.compat.v1.ConfigProto instead.\n",
            "\n",
            "WARNING:tensorflow:From /usr/local/lib/python3.6/dist-packages/keras/backend/tensorflow_backend.py:207: The name tf.global_variables is deprecated. Please use tf.compat.v1.global_variables instead.\n",
            "\n",
            "WARNING:tensorflow:From /usr/local/lib/python3.6/dist-packages/keras/backend/tensorflow_backend.py:216: The name tf.is_variable_initialized is deprecated. Please use tf.compat.v1.is_variable_initialized instead.\n",
            "\n",
            "WARNING:tensorflow:From /usr/local/lib/python3.6/dist-packages/keras/backend/tensorflow_backend.py:223: The name tf.variables_initializer is deprecated. Please use tf.compat.v1.variables_initializer instead.\n",
            "\n",
            "48000/48000 [==============================] - 2s 44us/step - loss: 0.4131 - acc: 0.8852 - val_loss: 0.2402 - val_acc: 0.9348\n",
            "Epoch 2/10\n",
            "48000/48000 [==============================] - 2s 39us/step - loss: 0.1886 - acc: 0.9468 - val_loss: 0.1611 - val_acc: 0.9559\n",
            "Epoch 3/10\n",
            "48000/48000 [==============================] - 2s 40us/step - loss: 0.1380 - acc: 0.9606 - val_loss: 0.1378 - val_acc: 0.9601\n",
            "Epoch 4/10\n",
            "48000/48000 [==============================] - 2s 39us/step - loss: 0.1082 - acc: 0.9688 - val_loss: 0.1172 - val_acc: 0.9657\n",
            "Epoch 5/10\n",
            "48000/48000 [==============================] - 2s 39us/step - loss: 0.0858 - acc: 0.9754 - val_loss: 0.1117 - val_acc: 0.9677\n",
            "Epoch 6/10\n",
            "48000/48000 [==============================] - 2s 39us/step - loss: 0.0710 - acc: 0.9794 - val_loss: 0.1031 - val_acc: 0.9688\n",
            "Epoch 7/10\n",
            "48000/48000 [==============================] - 2s 39us/step - loss: 0.0593 - acc: 0.9830 - val_loss: 0.0970 - val_acc: 0.9720\n",
            "Epoch 8/10\n",
            "48000/48000 [==============================] - 2s 40us/step - loss: 0.0498 - acc: 0.9858 - val_loss: 0.0950 - val_acc: 0.9721\n",
            "Epoch 9/10\n",
            "48000/48000 [==============================] - 2s 39us/step - loss: 0.0420 - acc: 0.9888 - val_loss: 0.0913 - val_acc: 0.9721\n",
            "Epoch 10/10\n",
            "48000/48000 [==============================] - 2s 40us/step - loss: 0.0358 - acc: 0.9901 - val_loss: 0.0907 - val_acc: 0.9729\n",
            "19.39836859703064\n"
          ],
          "name": "stdout"
        }
      ]
    },
    {
      "cell_type": "code",
      "metadata": {
        "id": "SSYdNYpsuuis",
        "colab_type": "code",
        "colab": {}
      },
      "source": [
        "\n",
        "from keras.models import load_model\n",
        "nn.save('my_model.h5')"
      ],
      "execution_count": 0,
      "outputs": []
    },
    {
      "cell_type": "code",
      "metadata": {
        "id": "LcUKy27rwS2N",
        "colab_type": "code",
        "colab": {}
      },
      "source": [
        "x_test=x_test/255\n",
        "test_labels=y_test\n",
        "lr = np.arange(10)\n",
        "one_hot_test=np.zeros((len(test_labels),10))\n",
        "for i in range(len(test_labels)):\n",
        "    one_hot_test[i,:]=(lr==test_labels[i]).astype(np.float)"
      ],
      "execution_count": 0,
      "outputs": []
    },
    {
      "cell_type": "code",
      "metadata": {
        "id": "fLuyUao4xP8g",
        "colab_type": "code",
        "colab": {}
      },
      "source": [
        ""
      ],
      "execution_count": 0,
      "outputs": []
    },
    {
      "cell_type": "markdown",
      "metadata": {
        "id": "0l52ntSv5vk7",
        "colab_type": "text"
      },
      "source": [
        "Test loss and accuracy"
      ]
    },
    {
      "cell_type": "code",
      "metadata": {
        "id": "wHX6I655vyaN",
        "colab_type": "code",
        "outputId": "b9da9aa5-1a44-4e94-ad6d-006498d15450",
        "colab": {
          "base_uri": "https://localhost:8080/",
          "height": 51
        }
      },
      "source": [
        "loss_and_metrics = nn.evaluate(x_test, one_hot_test, verbose=2)\n",
        "\n",
        "print(\"Test Loss\", loss_and_metrics[0])\n",
        "print(\"Test Accuracy\", loss_and_metrics[1])"
      ],
      "execution_count": 0,
      "outputs": [
        {
          "output_type": "stream",
          "text": [
            "Test Loss 0.07794746035949793\n",
            "Test Accuracy 0.9755\n"
          ],
          "name": "stdout"
        }
      ]
    },
    {
      "cell_type": "markdown",
      "metadata": {
        "id": "ewqMQNlAga6v",
        "colab_type": "text"
      },
      "source": [
        "WITH PCA\n"
      ]
    },
    {
      "cell_type": "code",
      "metadata": {
        "id": "QVs7Gw8hwPLi",
        "colab_type": "code",
        "colab": {}
      },
      "source": [
        "from sklearn.decomposition import PCA\n",
        "from sklearn.preprocessing import StandardScaler"
      ],
      "execution_count": 0,
      "outputs": []
    },
    {
      "cell_type": "markdown",
      "metadata": {
        "id": "n7nNNU9w58GY",
        "colab_type": "text"
      },
      "source": [
        "Vectorizing our images"
      ]
    },
    {
      "cell_type": "code",
      "metadata": {
        "id": "a78wNuWUkrRT",
        "colab_type": "code",
        "outputId": "d51f7dfb-6a94-47af-e086-5ef89b5df63e",
        "colab": {
          "base_uri": "https://localhost:8080/",
          "height": 221
        }
      },
      "source": [
        "image_input = Input(shape=(28,28))\n",
        "a=Flatten()(image_input)\n",
        "model=Model(image_input,a)\n",
        "model.summary()"
      ],
      "execution_count": 0,
      "outputs": [
        {
          "output_type": "stream",
          "text": [
            "Model: \"model_3\"\n",
            "_________________________________________________________________\n",
            "Layer (type)                 Output Shape              Param #   \n",
            "=================================================================\n",
            "input_4 (InputLayer)         (None, 28, 28)            0         \n",
            "_________________________________________________________________\n",
            "flatten_4 (Flatten)          (None, 784)               0         \n",
            "=================================================================\n",
            "Total params: 0\n",
            "Trainable params: 0\n",
            "Non-trainable params: 0\n",
            "_________________________________________________________________\n"
          ],
          "name": "stdout"
        }
      ]
    },
    {
      "cell_type": "code",
      "metadata": {
        "id": "XVP_dqfYlBRD",
        "colab_type": "code",
        "colab": {}
      },
      "source": [
        "flat=model.predict(x_train)"
      ],
      "execution_count": 0,
      "outputs": []
    },
    {
      "cell_type": "code",
      "metadata": {
        "id": "1mvAjgEMoPOH",
        "colab_type": "code",
        "outputId": "65effa95-a3d5-40ab-8e4a-6ca71edf1f34",
        "colab": {
          "base_uri": "https://localhost:8080/",
          "height": 34
        }
      },
      "source": [
        "flat.shape"
      ],
      "execution_count": 0,
      "outputs": [
        {
          "output_type": "execute_result",
          "data": {
            "text/plain": [
              "(60000, 784)"
            ]
          },
          "metadata": {
            "tags": []
          },
          "execution_count": 19
        }
      ]
    },
    {
      "cell_type": "markdown",
      "metadata": {
        "id": "U0tmkq-26LTO",
        "colab_type": "text"
      },
      "source": [
        "Transforming feature sets into lower dimension vectors using PCA to improve time efficiency while retaining 95% of variance"
      ]
    },
    {
      "cell_type": "code",
      "metadata": {
        "id": "rnjHHPDLjyYE",
        "colab_type": "code",
        "colab": {}
      },
      "source": [
        "pca=PCA(0.95)\n",
        "pca.fit(flat)\n",
        "components_train = pca.transform(flat)\n",
        "components_test = pca.transform(model.predict(x_test))"
      ],
      "execution_count": 0,
      "outputs": []
    },
    {
      "cell_type": "code",
      "metadata": {
        "id": "ngyDL_pIp-GU",
        "colab_type": "code",
        "outputId": "24f22313-72b4-40cd-fcf3-9480bdbea93b",
        "colab": {
          "base_uri": "https://localhost:8080/",
          "height": 34
        }
      },
      "source": [
        "pca.n_components_"
      ],
      "execution_count": 0,
      "outputs": [
        {
          "output_type": "execute_result",
          "data": {
            "text/plain": [
              "154"
            ]
          },
          "metadata": {
            "tags": []
          },
          "execution_count": 22
        }
      ]
    },
    {
      "cell_type": "code",
      "metadata": {
        "id": "n8BTYxWZqfjY",
        "colab_type": "code",
        "outputId": "1ed6af4a-fbfb-4940-8707-5f29472e3909",
        "colab": {
          "base_uri": "https://localhost:8080/",
          "height": 255
        }
      },
      "source": [
        "image_input = Input(shape=(154,))\n",
        "fc1=Dense(32,activation='relu',name='fc1')(image_input)\n",
        "out=Dense(10,activation='softmax',name='out')(fc1)\n",
        "nn_pca=Model(image_input,out)\n",
        "nn_pca.summary()"
      ],
      "execution_count": 0,
      "outputs": [
        {
          "output_type": "stream",
          "text": [
            "Model: \"model_7\"\n",
            "_________________________________________________________________\n",
            "Layer (type)                 Output Shape              Param #   \n",
            "=================================================================\n",
            "input_8 (InputLayer)         (None, 154)               0         \n",
            "_________________________________________________________________\n",
            "fc1 (Dense)                  (None, 32)                4960      \n",
            "_________________________________________________________________\n",
            "out (Dense)                  (None, 10)                330       \n",
            "=================================================================\n",
            "Total params: 5,290\n",
            "Trainable params: 5,290\n",
            "Non-trainable params: 0\n",
            "_________________________________________________________________\n"
          ],
          "name": "stdout"
        }
      ]
    },
    {
      "cell_type": "code",
      "metadata": {
        "id": "daD31HjJrp61",
        "colab_type": "code",
        "colab": {}
      },
      "source": [
        "nn_pca.compile(loss='categorical_crossentropy',optimizer=\"adam\",metrics=['accuracy'])"
      ],
      "execution_count": 0,
      "outputs": []
    },
    {
      "cell_type": "markdown",
      "metadata": {
        "id": "Ml0D6PDv6d_-",
        "colab_type": "text"
      },
      "source": [
        "Training of NN after transformation"
      ]
    },
    {
      "cell_type": "code",
      "metadata": {
        "id": "RmOb_nTHszaC",
        "colab_type": "code",
        "outputId": "a8d716a4-4d5d-497b-d88e-e0efd95fc72f",
        "colab": {
          "base_uri": "https://localhost:8080/",
          "height": 391
        }
      },
      "source": [
        "import time\n",
        "t=time.time()\n",
        "nn_pca.fit(components_train,one_hot,batch_size=128, epochs=10, verbose=1, validation_split=0.2)\n",
        "print(time.time()-t)"
      ],
      "execution_count": 0,
      "outputs": [
        {
          "output_type": "stream",
          "text": [
            "Train on 48000 samples, validate on 12000 samples\n",
            "Epoch 1/10\n",
            "48000/48000 [==============================] - 1s 19us/step - loss: 0.9480 - acc: 0.7539 - val_loss: 0.3634 - val_acc: 0.9068\n",
            "Epoch 2/10\n",
            "48000/48000 [==============================] - 1s 14us/step - loss: 0.3102 - acc: 0.9137 - val_loss: 0.2478 - val_acc: 0.9307\n",
            "Epoch 3/10\n",
            "48000/48000 [==============================] - 1s 13us/step - loss: 0.2353 - acc: 0.9325 - val_loss: 0.2093 - val_acc: 0.9410\n",
            "Epoch 4/10\n",
            "48000/48000 [==============================] - 1s 13us/step - loss: 0.1988 - acc: 0.9427 - val_loss: 0.1852 - val_acc: 0.9482\n",
            "Epoch 5/10\n",
            "48000/48000 [==============================] - 1s 13us/step - loss: 0.1745 - acc: 0.9494 - val_loss: 0.1715 - val_acc: 0.9510\n",
            "Epoch 6/10\n",
            "48000/48000 [==============================] - 1s 14us/step - loss: 0.1570 - acc: 0.9543 - val_loss: 0.1603 - val_acc: 0.9534\n",
            "Epoch 7/10\n",
            "48000/48000 [==============================] - 1s 13us/step - loss: 0.1431 - acc: 0.9591 - val_loss: 0.1535 - val_acc: 0.9552\n",
            "Epoch 8/10\n",
            "48000/48000 [==============================] - 1s 13us/step - loss: 0.1317 - acc: 0.9624 - val_loss: 0.1464 - val_acc: 0.9561\n",
            "Epoch 9/10\n",
            "48000/48000 [==============================] - 1s 13us/step - loss: 0.1222 - acc: 0.9656 - val_loss: 0.1423 - val_acc: 0.9575\n",
            "Epoch 10/10\n",
            "48000/48000 [==============================] - 1s 13us/step - loss: 0.1141 - acc: 0.9676 - val_loss: 0.1380 - val_acc: 0.9599\n",
            "6.9307861328125\n"
          ],
          "name": "stdout"
        }
      ]
    },
    {
      "cell_type": "markdown",
      "metadata": {
        "id": "PvNipq816nC6",
        "colab_type": "text"
      },
      "source": [
        "Test loss and accuracy"
      ]
    },
    {
      "cell_type": "code",
      "metadata": {
        "id": "Bkmk6EUFvcef",
        "colab_type": "code",
        "outputId": "808c4e79-8e55-40f5-9db4-39218dae076d",
        "colab": {
          "base_uri": "https://localhost:8080/",
          "height": 51
        }
      },
      "source": [
        "loss_and_metrics = nn_pca.evaluate(components_test, one_hot_test, verbose=2)\n",
        "\n",
        "print(\"Test Loss\", loss_and_metrics[0])\n",
        "print(\"Test Accuracy\", loss_and_metrics[1])"
      ],
      "execution_count": 0,
      "outputs": [
        {
          "output_type": "stream",
          "text": [
            "Test Loss 0.13025651152282952\n",
            "Test Accuracy 0.9626\n"
          ],
          "name": "stdout"
        }
      ]
    },
    {
      "cell_type": "code",
      "metadata": {
        "id": "97AwL3j4yyk-",
        "colab_type": "code",
        "colab": {}
      },
      "source": [
        "approximation = pca.inverse_transform(components_train)"
      ],
      "execution_count": 0,
      "outputs": []
    },
    {
      "cell_type": "code",
      "metadata": {
        "id": "4F8RNtPLw8JH",
        "colab_type": "code",
        "outputId": "0673e9bc-0748-4864-98fc-fc93b80790c2",
        "colab": {
          "base_uri": "https://localhost:8080/",
          "height": 307
        }
      },
      "source": [
        "from matplotlib import pyplot as plt\n",
        "%matplotlib inline\n",
        "plt.figure(figsize=(8,4))\n",
        "\n",
        "# Original Image\n",
        "plt.subplot(1, 2, 1)\n",
        "plt.imshow(flat[2].reshape(28,28),cmap = plt.cm.gray, interpolation='nearest',)\n",
        "plt.xlabel('784 components', fontsize = 14)\n",
        "plt.title('Original Image', fontsize = 20)\n",
        "\n",
        "# 154 principal components\n",
        "plt.subplot(1, 2, 2)\n",
        "plt.imshow(approximation[2].reshape(28, 28),cmap = plt.cm.gray, interpolation='nearest')\n",
        "plt.xlabel('154 components', fontsize = 14)\n",
        "plt.title('95% of Explained Variance', fontsize = 20)"
      ],
      "execution_count": 0,
      "outputs": [
        {
          "output_type": "execute_result",
          "data": {
            "text/plain": [
              "Text(0.5, 1.0, '95% of Explained Variance')"
            ]
          },
          "metadata": {
            "tags": []
          },
          "execution_count": 44
        },
        {
          "output_type": "display_data",
          "data": {
            "image/png": "[encoded data removed]",
            "text/plain": [
              "<Figure size 576x288 with 2 Axes>"
            ]
          },
          "metadata": {
            "tags": []
          }
        }
      ]
    },
    {
      "cell_type": "code",
      "metadata": {
        "id": "Z5QqiOVYyPp8",
        "colab_type": "code",
        "colab": {}
      },
      "source": [
        ""
      ],
      "execution_count": 0,
      "outputs": []
    },
    {
      "cell_type": "markdown",
      "metadata": {
        "id": "bH6n2KUA8aWw",
        "colab_type": "text"
      },
      "source": [
        "Above approch can be used in between CNN layers and fully connected layers.\n",
        "\n",
        "cnn works as a features extractor, theses features can be transformed into lower dimension using either linear or non linear dimension reduction techniques befores using these features for classification.\n"
      ]
    }
  ]
}